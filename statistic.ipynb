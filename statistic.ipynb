{
 "cells": [
  {
   "cell_type": "code",
   "execution_count": 146,
   "metadata": {},
   "outputs": [
    {
     "name": "stdout",
     "output_type": "stream",
     "text": [
      "Wilcoxon signed-rank test: statistic=0.0, p-value=0.001953125\n",
      "Cliff's delta: 1.000 (SE: 0.000)\n",
      "[48.23, 52.21, 54.14, 54.83, 55.22, 48.23, 52.21, 54.14, 54.83, 55.22]\n"
     ]
    }
   ],
   "source": [
    "import numpy as np\n",
    "from scipy.stats import wilcoxon\n",
    "\n",
    "def cliffs_delta(x, y):\n",
    "    x = np.array(x)\n",
    "    y = np.array(y)\n",
    "    \n",
    "    n1 = len(x)\n",
    "    n2 = len(y)\n",
    "    \n",
    "    dom = np.sign(x[:, None] - y)\n",
    "    delta = np.sum(dom) / (n1 * n2)\n",
    "    \n",
    "    se = np.sqrt((1 + delta) * (1 - delta) / (n1 * n2))\n",
    "    \n",
    "    return delta, se\n",
    "\n",
    "x = []\n",
    "y = []\n",
    "\n",
    "# Wilcoxon signed-rank test\n",
    "statistic, p_value = wilcoxon(x, y)\n",
    "print(f\"Wilcoxon signed-rank test: statistic={statistic}, p-value={p_value}\")\n",
    "\n",
    "# Cliff's delta effect size\n",
    "delta, se = cliffs_delta(x, y)\n",
    "print(f\"Cliff's delta: {delta:.3f} (SE: {se:.3f})\")\n",
    "print(y)"
   ]
  }
 ],
 "metadata": {
  "kernelspec": {
   "display_name": "ml",
   "language": "python",
   "name": "python3"
  },
  "language_info": {
   "codemirror_mode": {
    "name": "ipython",
    "version": 3
   },
   "file_extension": ".py",
   "mimetype": "text/x-python",
   "name": "python",
   "nbconvert_exporter": "python",
   "pygments_lexer": "ipython3",
   "version": "3.10.13"
  }
 },
 "nbformat": 4,
 "nbformat_minor": 2
}
